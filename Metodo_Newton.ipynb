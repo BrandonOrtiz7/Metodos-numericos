{
  "nbformat": 4,
  "nbformat_minor": 0,
  "metadata": {
    "colab": {
      "provenance": [],
      "authorship_tag": "ABX9TyPk0yUirrkK6w6NCXvzj54h",
      "include_colab_link": true
    },
    "kernelspec": {
      "name": "python3",
      "display_name": "Python 3"
    },
    "language_info": {
      "name": "python"
    }
  },
  "cells": [
    {
      "cell_type": "markdown",
      "metadata": {
        "id": "view-in-github",
        "colab_type": "text"
      },
      "source": [
        "<a href=\"https://colab.research.google.com/github/BrandonOrtiz7/Metodos-numericos/blob/main/Metodo_Newton.ipynb\" target=\"_parent\"><img src=\"https://colab.research.google.com/assets/colab-badge.svg\" alt=\"Open In Colab\"/></a>"
      ]
    },
    {
      "cell_type": "code",
      "source": [
        "from tabulate import tabulate #libreria para imprimir la tabla\n",
        "from math import cos, sin #libreria para usar las funciones sen y cos"
      ],
      "metadata": {
        "id": "am6aCHHqkWjD"
      },
      "execution_count": null,
      "outputs": []
    },
    {
      "cell_type": "code",
      "source": [
        "def f(x):\n",
        "    return cos(x) - x  # Definimos la función"
      ],
      "metadata": {
        "id": "SpfPQ2FRkTbM"
      },
      "execution_count": null,
      "outputs": []
    },
    {
      "cell_type": "markdown",
      "source": [
        "$f(x) = cos(x) - x$"
      ],
      "metadata": {
        "id": "eK4cXOy7kiTz"
      }
    },
    {
      "cell_type": "code",
      "source": [
        "def df(x):\n",
        "    return -sin(x) - 1  # Derivada de la función"
      ],
      "metadata": {
        "id": "iac23-6EkeVb"
      },
      "execution_count": null,
      "outputs": []
    },
    {
      "cell_type": "markdown",
      "source": [
        "$f´(x) = -sen(x) - 1$"
      ],
      "metadata": {
        "id": "cGr_gSnEkseD"
      }
    },
    {
      "cell_type": "code",
      "execution_count": 4,
      "metadata": {
        "colab": {
          "base_uri": "https://localhost:8080/"
        },
        "id": "Aq28d1S0jzd7",
        "outputId": "a3311531-152b-4216-f8b1-d20b41505c43"
      },
      "outputs": [
        {
          "output_type": "stream",
          "name": "stdout",
          "text": [
            "Se encontró la raíz: 0.7390851332151607\n",
            "  Iteración           p0            p          f(p)        Error\n",
            "-----------  -----------  -----------  ------------  -----------\n",
            "          1  0.000000000  1.000000000  -0.459697694  1.000000000\n",
            "          2  1.000000000  0.750363868  -0.018923074  0.249636132\n",
            "          3  0.750363868  0.739112891  -0.000046456  0.011250977\n",
            "          4  0.739112891  0.739085133  -0.000000000  0.000027758\n",
            "          5  0.739085133  0.739085133   0.000000000  0.000000000\n"
          ]
        }
      ],
      "source": [
        "def newton(p0, tol, N):\n",
        "    tabla = []  # lista para almacenar los resultados\n",
        "    i = 1  # contador de iteraciones\n",
        "\n",
        "    while i <= N:\n",
        "        fp0 = f(p0)  # evaluamos la función en p0\n",
        "        dfp0 = df(p0)  # evaluamos la derivada en p0\n",
        "\n",
        "        if dfp0 == 0:\n",
        "            print(\"Derivada cero. No se puede continuar el método de Newton.\")\n",
        "            return None\n",
        "\n",
        "        p = p0 - fp0 / dfp0  # fórmula de Newton\n",
        "        error = abs(p - p0)  # cálculo del error\n",
        "\n",
        "        tabla.append([i, p0, p, f(p), error])  # guardamos los resultados\n",
        "\n",
        "        if error < tol:\n",
        "            print(f\"Se encontró la raíz: {p}\")\n",
        "            print(tabulate(tabla, headers=[\"Iteración\", \"p0\", \"p\", \"f(p)\", \"Error\"], floatfmt=\".9f\"))\n",
        "            return None\n",
        "\n",
        "        i += 1  #aumentamos el numero de iteracion\n",
        "        p0 = p  # actualizamos el valor de p0\n",
        "\n",
        "    print(\"El método fracasó después de\", N, \"iteraciones, se requieren más.\")\n",
        "    print(tabulate(tabla, headers=[\"Iteración\", \"p0\", \"p\", \"f(p)\", \"Error\"], floatfmt=\".9f\"))\n",
        "\n",
        "newton(0, 1e-5, 20)\n"
      ]
    }
  ]
}