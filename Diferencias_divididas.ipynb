{
  "nbformat": 4,
  "nbformat_minor": 0,
  "metadata": {
    "colab": {
      "provenance": [],
      "authorship_tag": "ABX9TyP2bjEQhdWg0M1C1iYiizv7",
      "include_colab_link": true
    },
    "kernelspec": {
      "name": "python3",
      "display_name": "Python 3"
    },
    "language_info": {
      "name": "python"
    }
  },
  "cells": [
    {
      "cell_type": "markdown",
      "metadata": {
        "id": "view-in-github",
        "colab_type": "text"
      },
      "source": [
        "<a href=\"https://colab.research.google.com/github/BrandonOrtiz7/Metodos-numericos/blob/main/Diferencias_divididas.ipynb\" target=\"_parent\"><img src=\"https://colab.research.google.com/assets/colab-badge.svg\" alt=\"Open In Colab\"/></a>"
      ]
    },
    {
      "cell_type": "markdown",
      "source": [
        "Diferencias divididas\n",
        "\n",
        "El método de diferencias divididas de Newton es una técnica para encontrar un polinomio de interpolación que pase exactamente por un conjunto dado de puntos. Sirve principalmente para aproximar funciones cuando tienes pocos datos o cuando no conoces la función explícitamente."
      ],
      "metadata": {
        "id": "vj7A6ZUd-oib"
      }
    },
    {
      "cell_type": "markdown",
      "source": [
        "La primera diferencia dividida entre dos puntos es:\n",
        "\n",
        "$f[x_0, x_1] = \\frac{f(x_1) - f(x_0)}{x_1 - x_0}$\n",
        "\n",
        "La segunda diferencia dividida sería:\n",
        "\n",
        "$f[x_0, x_1, x_2] = \\frac{f[x_1, x_2] - f[x_0, x_1]}{x_2 - x_0}$\n",
        "\n",
        "Asi, sucesivamente\n",
        "\n"
      ],
      "metadata": {
        "id": "cRsT-cdSBuUb"
      }
    },
    {
      "cell_type": "code",
      "execution_count": 1,
      "metadata": {
        "colab": {
          "base_uri": "https://localhost:8080/"
        },
        "id": "e8nBtMkh-H91",
        "outputId": "967705ea-6e9e-4a39-f6fd-aeb97e315065"
      },
      "outputs": [
        {
          "output_type": "stream",
          "name": "stdout",
          "text": [
            "+----------+-----------+------------+-----------+-----------+\n",
            "| 0.765198 |  0        |  0         | 0         | 0         |\n",
            "+----------+-----------+------------+-----------+-----------+\n",
            "| 0.620086 | -0.483706 |  0         | 0         | 0         |\n",
            "+----------+-----------+------------+-----------+-----------+\n",
            "| 0.455402 | -0.548946 | -0.108734  | 0         | 0         |\n",
            "+----------+-----------+------------+-----------+-----------+\n",
            "| 0.281819 | -0.578612 | -0.0494433 | 0.0658784 | 0         |\n",
            "+----------+-----------+------------+-----------+-----------+\n",
            "| 0.110362 | -0.571521 |  0.0118183 | 0.0680685 | 0.0018251 |\n",
            "+----------+-----------+------------+-----------+-----------+\n",
            "\n",
            "Coeficientes del polinomio de Newton (diferencias divididas):\n",
            "F[0,0] = 0.7651977\n",
            "F[1,1] = -0.4837056666666664\n",
            "F[2,2] = -0.10873388888888935\n",
            "F[3,3] = 0.06587839506172834\n",
            "F[4,4] = 0.0018251028806604353\n"
          ]
        }
      ],
      "source": [
        "from tabulate import tabulate\n",
        "\n",
        "def diferencias_divididas(xi, fxi):\n",
        "    n = len(xi)\n",
        "\n",
        "    # creamos una tabla F de tamaño nxn donde todo se inicializa en 0.0  (MATRIZ)\n",
        "    F = [[0.0 for _ in range(n)] for _ in range(n)]\n",
        "\n",
        "    # Llenamos la primera columna con los valores de fxi\n",
        "    for i in range(n):\n",
        "        F[i][0] = fxi[i]\n",
        "\n",
        "    # Calculamos las diferencias divididas\n",
        "    for i in range(1, n):            # i recorre desde 1 hasta n-1\n",
        "        for j in range(1, i + 1):    # j recorre desde 1 hasta i\n",
        "            xi_i = xi[i]             # xi\n",
        "            xi_ij = xi[i - j]        # xi - j\n",
        "            num = F[i][j - 1] - F[i - 1][j - 1]  # numerador: Fi,j−1 − Fi−1,j−1\n",
        "            den = xi_i - xi_ij                   # denominador: xi − xi−j\n",
        "            F[i][j] = num / den                  # se guarda Fi,j = f[xi−j,...,xi]\n",
        "\n",
        "    # imprimimos la tabla completa\n",
        "    print(tabulate(F, tablefmt=\"grid\"))\n",
        "\n",
        "    # extraemos la diagonal (F0,0, F1,1, ..., Fn,n)\n",
        "    print(\"\\nCoeficientes del polinomio de Newton (diferencias divididas):\")\n",
        "    for i in range(n):\n",
        "        print(f\"F[{i},{i}] = {F[i][i]}\")\n",
        "\n",
        "\n",
        "xi = [1, 1.3, 1.6, 1.9, 2.2]\n",
        "fxi = [0.7651977, 0.6200860, 0.4554022, 0.2818186, 0.1103623]\n",
        "\n",
        "diferencias_divididas(xi, fxi)\n"
      ]
    }
  ]
}