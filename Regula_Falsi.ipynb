{
  "nbformat": 4,
  "nbformat_minor": 0,
  "metadata": {
    "colab": {
      "provenance": [],
      "authorship_tag": "ABX9TyN2o05YsB8hOgjNaGibSU+r",
      "include_colab_link": true
    },
    "kernelspec": {
      "name": "python3",
      "display_name": "Python 3"
    },
    "language_info": {
      "name": "python"
    }
  },
  "cells": [
    {
      "cell_type": "markdown",
      "metadata": {
        "id": "view-in-github",
        "colab_type": "text"
      },
      "source": [
        "<a href=\"https://colab.research.google.com/github/BrandonOrtiz7/Metodos-numericos/blob/main/Regula_Falsi.ipynb\" target=\"_parent\"><img src=\"https://colab.research.google.com/assets/colab-badge.svg\" alt=\"Open In Colab\"/></a>"
      ]
    },
    {
      "cell_type": "markdown",
      "source": [
        "**POSICION FALSA (REGULA FALSI)**"
      ],
      "metadata": {
        "id": "qXqDumn65GPe"
      }
    },
    {
      "cell_type": "code",
      "source": [
        "from tabulate import tabulate\n",
        "import math"
      ],
      "metadata": {
        "id": "YEpi8XGI5PMN"
      },
      "execution_count": 2,
      "outputs": []
    },
    {
      "cell_type": "code",
      "source": [
        "def f(x):\n",
        "    return math.cos(x) - x  # Definimos la ecuación"
      ],
      "metadata": {
        "id": "4cCz0MZt5XKN"
      },
      "execution_count": 19,
      "outputs": []
    },
    {
      "cell_type": "markdown",
      "source": [
        "$F(X)  = COS(X) - X$"
      ],
      "metadata": {
        "id": "IxMDBIs05cKw"
      }
    },
    {
      "cell_type": "code",
      "source": [
        "def regula_falsi(p0, p1, TOL, N0):\n",
        "    q0 = f(p0)\n",
        "    q1 = f(p1)\n",
        "\n",
        "    if q0 * q1 > 0:\n",
        "        print(\"No hay raíz en este intervalo, prueba con otro\")\n",
        "        return None\n",
        "\n",
        "    tabla = []\n",
        "    i = 1  # Primeras dos iteraciones ya están definidas\n",
        "\n",
        "    while i <= N0:\n",
        "        p = p1 - q1 * (p1 - p0) / (q1 - q0)  # Paso 3: cálculo de p\n",
        "        e = abs(p - p1)  # Error absoluto\n",
        "\n",
        "        # **Registrar en la tabla ANTES de verificar la tolerancia**\n",
        "        q = f(p)  # Paso 5: evaluar la función en p\n",
        "        tabla.append([i, p0, p1, p, q, e])\n",
        "\n",
        "        if e < TOL:  # Paso 4: criterio de convergencia\n",
        "            print(tabulate(tabla, headers=[\"Iteración\", \"p0\", \"p1\", \"p\", \"f(p)\", \"Error\"], floatfmt=\".9f\", tablefmt=\"grid\"))\n",
        "            print(f\"Se encontró la raíz: {p}\")\n",
        "            return None\n",
        "\n",
        "        i += 1\n",
        "\n",
        "        if q * q1 < 0:  # Paso 6: actualizar el intervalo\n",
        "            p0 = p1\n",
        "            q0 = q1\n",
        "\n",
        "        p1 = p  # Paso 7: actualizar p1\n",
        "        q1 = q\n",
        "\n",
        "    print(f\"El método falló después de {N0} iteraciones.\")\n",
        "    print(tabulate(tabla, headers=[\"Iteración\", \"p0\", \"p1\", \"p\", \"f(p)\", \"Error\"], floatfmt=\".9f\", tablefmt=\"grid\"))  # Imprimir la tabla final\n",
        "    return None\n",
        "\n",
        "# Llamada a la función con valores iniciales\n",
        "regula_falsi(0.5, math.pi / 4, 1e-7, 20)\n"
      ],
      "metadata": {
        "id": "CiIGAGi6GKxy",
        "outputId": "417e772e-8308-4420-8a47-9b898e813852",
        "colab": {
          "base_uri": "https://localhost:8080/"
        }
      },
      "execution_count": 33,
      "outputs": [
        {
          "output_type": "stream",
          "name": "stdout",
          "text": [
            "+-------------+-------------+-------------+-------------+-------------+-------------+\n",
            "|   Iteración |          p0 |          p1 |           p |        f(p) |       Error |\n",
            "+=============+=============+=============+=============+=============+=============+\n",
            "|           1 | 0.500000000 | 0.785398163 | 0.736384139 | 0.004517719 | 0.049014025 |\n",
            "+-------------+-------------+-------------+-------------+-------------+-------------+\n",
            "|           2 | 0.785398163 | 0.736384139 | 0.739058139 | 0.000045177 | 0.002674000 |\n",
            "+-------------+-------------+-------------+-------------+-------------+-------------+\n",
            "|           3 | 0.785398163 | 0.739058139 | 0.739084864 | 0.000000451 | 0.000026725 |\n",
            "+-------------+-------------+-------------+-------------+-------------+-------------+\n",
            "|           4 | 0.785398163 | 0.739084864 | 0.739085131 | 0.000000004 | 0.000000267 |\n",
            "+-------------+-------------+-------------+-------------+-------------+-------------+\n",
            "|           5 | 0.785398163 | 0.739085131 | 0.739085133 | 0.000000000 | 0.000000003 |\n",
            "+-------------+-------------+-------------+-------------+-------------+-------------+\n",
            "Se encontró la raíz: 0.7390851331883289\n"
          ]
        }
      ]
    }
  ]
}