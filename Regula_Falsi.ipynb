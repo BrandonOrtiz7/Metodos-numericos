{
  "nbformat": 4,
  "nbformat_minor": 0,
  "metadata": {
    "colab": {
      "provenance": [],
      "authorship_tag": "ABX9TyN7wSHq+0GPWFOL8KZ7M51v",
      "include_colab_link": true
    },
    "kernelspec": {
      "name": "python3",
      "display_name": "Python 3"
    },
    "language_info": {
      "name": "python"
    }
  },
  "cells": [
    {
      "cell_type": "markdown",
      "metadata": {
        "id": "view-in-github",
        "colab_type": "text"
      },
      "source": [
        "<a href=\"https://colab.research.google.com/github/BrandonOrtiz7/Metodos-numericos/blob/main/Regula_Falsi.ipynb\" target=\"_parent\"><img src=\"https://colab.research.google.com/assets/colab-badge.svg\" alt=\"Open In Colab\"/></a>"
      ]
    },
    {
      "cell_type": "code",
      "execution_count": 18,
      "metadata": {
        "colab": {
          "base_uri": "https://localhost:8080/"
        },
        "id": "jNZUCWNNlj_w",
        "outputId": "7183647f-0040-4886-8ffc-5ded11db1b6f"
      },
      "outputs": [
        {
          "output_type": "stream",
          "name": "stdout",
          "text": [
            "Se encontró la raíz: 0.7363841388365822\n",
            "Iteración    p0    p1    p    f(p)    Error\n",
            "-----------  ----  ----  ---  ------  -------\n"
          ]
        },
        {
          "output_type": "execute_result",
          "data": {
            "text/plain": [
              "0.7363841388365822"
            ]
          },
          "metadata": {},
          "execution_count": 18
        }
      ],
      "source": [
        "from tabulate import tabulate\n",
        "import math\n",
        "\n",
        "def f(x):\n",
        "    return math.cos(x) - x  # Definimos la ecuación\n",
        "\n",
        "def regula_falsi(p0, p1, TOL, N0):\n",
        "    q0 = f(p0)\n",
        "    q1 = f(p1)\n",
        "\n",
        "    if q0 * q1 > 0:\n",
        "        print(\"No hay raíz en este intervalo, prueba con otro\")\n",
        "        return None\n",
        "\n",
        "    tabla = []\n",
        "    i = 2  # Primeras dos iteraciones ya están definidas\n",
        "\n",
        "    while i <= N0:\n",
        "        p = p1 - q1 * (p1 - p0) / (q1 - q0)  # Paso 3: cálculo de p\n",
        "        e = p - p1  # Error absoluto\n",
        "\n",
        "        if  e < TOL:  # Paso 4: criterio de convergencia\n",
        "            print(f\"Se encontró la raíz: {p}\")\n",
        "            print(tabulate(tabla, headers=[\"Iteración\", \"p0\", \"p1\", \"p\", \"f(p)\", \"Error\"], floatfmt=\".9f\"))\n",
        "            return p\n",
        "\n",
        "        q = f(p)  # Paso 5: evaluar la función en p\n",
        "        tabla.append([i, p0, p1, p, q, e])\n",
        "\n",
        "        if q * q1 < 0:  # Paso 6: actualizar el intervalo\n",
        "            p0 = p1\n",
        "            q0 = q1\n",
        "\n",
        "        p1 = p  # Paso 7: actualizar p1\n",
        "        q1 = q\n",
        "        i += 1\n",
        "\n",
        "    print(f\"El método falló después de {N0} iteraciones.\")\n",
        "    return None\n",
        "\n",
        "# Llamada a la función con valores iniciales\n",
        "regula_falsi(.5, math.pi/4, 1e-4, 20)\n"
      ]
    }
  ]
}