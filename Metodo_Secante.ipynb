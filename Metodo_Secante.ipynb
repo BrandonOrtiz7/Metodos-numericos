{
  "nbformat": 4,
  "nbformat_minor": 0,
  "metadata": {
    "colab": {
      "provenance": [],
      "authorship_tag": "ABX9TyOwEqSk0kINhIk9aLFdC+pp",
      "include_colab_link": true
    },
    "kernelspec": {
      "name": "python3",
      "display_name": "Python 3"
    },
    "language_info": {
      "name": "python"
    }
  },
  "cells": [
    {
      "cell_type": "markdown",
      "metadata": {
        "id": "view-in-github",
        "colab_type": "text"
      },
      "source": [
        "<a href=\"https://colab.research.google.com/github/BrandonOrtiz7/Metodos-numericos/blob/main/Metodo_Secante.ipynb\" target=\"_parent\"><img src=\"https://colab.research.google.com/assets/colab-badge.svg\" alt=\"Open In Colab\"/></a>"
      ]
    },
    {
      "cell_type": "markdown",
      "source": [
        "METODO DE LA SECANTE\n",
        "\n",
        "El método de la secante es un método numérico utilizado para encontrar aproximaciones a las raíces de una función f(x). Se basa en la idea de reemplazar la derivada en el método de Newton por una aproximación de la pendiente usando dos puntos consecutivos de la función.\n",
        "\n"
      ],
      "metadata": {
        "id": "5p4xpBiSqlAy"
      }
    },
    {
      "cell_type": "markdown",
      "source": [
        "Empezamamos con dos aproximaciones iniciales p0 y p1, la aproximación p2 es la intersección en x de la recta que une los puntos (p0, f(p0)) y (p1, f(p1)). La aproximación p3 es la intersección en x de la recta que une los puntos\n",
        "(p1, f(p1)) y (p2, f(p2)) y así\n",
        "sucesivamente. Observe que sólo se necesita una evaluación de la función por cada paso para el método de la secante después de haber determinado p2. En contraste, cada paso del método de Newton requiere una evaluación tanto de la función como de su derivada."
      ],
      "metadata": {
        "id": "g7_7tULmsPtb"
      }
    },
    {
      "cell_type": "markdown",
      "source": [
        "$p_n = p_{n-1} - f(p_{n-1}) \\frac{p_{n-1} - p_{n-2}}{f(p_{n-1}) - f(p_{n-2})}\n",
        "$\n"
      ],
      "metadata": {
        "id": "9v0qFbe-uhgq"
      }
    },
    {
      "cell_type": "code",
      "source": [
        "def f(x):\n",
        "    return cos(x) - x  # Definimos la función"
      ],
      "metadata": {
        "id": "WnZgDK5Bp_NV"
      },
      "execution_count": 5,
      "outputs": []
    },
    {
      "cell_type": "code",
      "source": [
        "from tabulate import tabulate #ibreria para imprimir la tabla\n",
        "from math import cos, pi #libreria para poder usar cos, pi"
      ],
      "metadata": {
        "id": "BWsH6j0hpkml"
      },
      "execution_count": 6,
      "outputs": []
    },
    {
      "cell_type": "markdown",
      "source": [
        "$f(x) = cos(x) - x$"
      ],
      "metadata": {
        "id": "6-0XY4D2qB9D"
      }
    },
    {
      "cell_type": "code",
      "execution_count": 9,
      "metadata": {
        "colab": {
          "base_uri": "https://localhost:8080/"
        },
        "id": "la5IRVZdpT4H",
        "outputId": "0e1cb900-ff3d-4fc3-de07-b6085eeb3976"
      },
      "outputs": [
        {
          "output_type": "stream",
          "name": "stdout",
          "text": [
            "Se encontró la raíz con un error menor de 1e-5: 0.7390851332150645\n",
            "  Iteración           p0           p1            p          f(p)        Error\n",
            "-----------  -----------  -----------  -----------  ------------  -----------\n",
            "          0  0.500000000  0.785398163  0.736384139   0.004517719  0.049014025\n",
            "          1  0.785398163  0.736384139  0.739058139   0.000045177  0.002674000\n",
            "          2  0.736384139  0.739058139  0.739085149  -0.000000027  0.000027010\n",
            "          3  0.739058139  0.739085149  0.739085133   0.000000000  0.000000016\n"
          ]
        }
      ],
      "source": [
        "def secante(p0, p1, tol, N):\n",
        "    tabla = []  # lista para almacenar los resultados\n",
        "    i = 0  # contador de iteraciones\n",
        "    q0 = f(p0)  # evaluamos la función en p0\n",
        "    q1 = f(p1)  # evaluamos la función en p1\n",
        "\n",
        "    while i <= N:\n",
        "        if q1 - q0 == 0:\n",
        "            print(\"División por cero. No se puede continuar el método de la secante.\") #ponemos esta condicion\n",
        "            return None\n",
        "\n",
        "        p = p1 - q1 * (p1 - p0) / (q1 - q0)  # Fórmula de la secante\n",
        "        error = abs(p - p1)  # Cálculo del error\n",
        "\n",
        "        tabla.append([i, p0, p1, p, f(p), error])  # Almacenamos los resultados\n",
        "\n",
        "        if error < tol:\n",
        "            print(f\"Se encontró la raíz con un error menor de 1e-5: {p}\")\n",
        "            print(tabulate(tabla, headers=[\"Iteración\", \"p0\", \"p1\", \"p\", \"f(p)\", \"Error\"], floatfmt=\".9f\"))\n",
        "            return None\n",
        "\n",
        "        i += 1\n",
        "        p0, q0 = p1, q1  # Actualizamos p0 y q0\n",
        "        p1, q1 = p, f(p)  # Actualizamos p1 y q1\n",
        "\n",
        "    print(\"El método fracasó después de\", N, \"iteraciones, se requieren más.\")\n",
        "    print(tabulate(tabla, headers=[\"Iteración\", \"p0\", \"p1\", \"p\", \"f(p)\", \"Error\"], floatfmt=\".9f\"))\n",
        "\n",
        "secante(0.5, pi/4, 1e-5, 20)\n"
      ]
    }
  ]
}