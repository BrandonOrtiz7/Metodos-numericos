{
  "nbformat": 4,
  "nbformat_minor": 0,
  "metadata": {
    "colab": {
      "provenance": [],
      "authorship_tag": "ABX9TyMS+1buNTNHethdPSW346Fr",
      "include_colab_link": true
    },
    "kernelspec": {
      "name": "python3",
      "display_name": "Python 3"
    },
    "language_info": {
      "name": "python"
    }
  },
  "cells": [
    {
      "cell_type": "markdown",
      "metadata": {
        "id": "view-in-github",
        "colab_type": "text"
      },
      "source": [
        "<a href=\"https://colab.research.google.com/github/BrandonOrtiz7/Metodos-numericos/blob/main/Metodo_de_Euler.ipynb\" target=\"_parent\"><img src=\"https://colab.research.google.com/assets/colab-badge.svg\" alt=\"Open In Colab\"/></a>"
      ]
    },
    {
      "cell_type": "markdown",
      "source": [
        "El método de Euler es el más básico y sencillo de los procedimientos usados para encontrar soluciones numéricas aproximadas a una ecuación diferencial ordinaria de primer orden, siempre que se conozca su condición inicial.\n"
      ],
      "metadata": {
        "id": "kWpVcPxzNRej"
      }
    },
    {
      "cell_type": "code",
      "execution_count": 3,
      "metadata": {
        "colab": {
          "base_uri": "https://localhost:8080/"
        },
        "id": "7ubxmTeUJiMc",
        "outputId": "0a3c9020-3ced-4484-d93e-679aa795a272"
      },
      "outputs": [
        {
          "output_type": "stream",
          "name": "stdout",
          "text": [
            "+-------+---------------+-----------------+------------------+\n",
            "|   t_i |   w_i (Euler) |   y(t_i) exacto |   Error absoluto |\n",
            "+=======+===============+=================+==================+\n",
            "|   0   |        0.5    |         0.5     |         0        |\n",
            "+-------+---------------+-----------------+------------------+\n",
            "|   0.5 |        1.25   |         1.42564 |         0.175639 |\n",
            "+-------+---------------+-----------------+------------------+\n",
            "|   1   |        2.25   |         2.64086 |         0.390859 |\n",
            "+-------+---------------+-----------------+------------------+\n",
            "|   1.5 |        3.375  |         4.00915 |         0.634155 |\n",
            "+-------+---------------+-----------------+------------------+\n",
            "|   2   |        4.4375 |         5.30547 |         0.867972 |\n",
            "+-------+---------------+-----------------+------------------+\n"
          ]
        }
      ],
      "source": [
        "import math                     # Importamos para usar la función exponencial\n",
        "from tabulate import tabulate   # Importamos tabulate para mostrar la tabla de resultados\n",
        "\n",
        "def f(t, y):\n",
        "    return y - t**2 + 1\n",
        "\n",
        "# Definimos la solución exacta\n",
        "def y_exacta(t):\n",
        "    return (t + 1)**2 - 0.5 * math.exp(t)\n",
        "\n",
        "# Definimos los parámetros del problema\n",
        "a = 0           # Límite inferior del intervalo\n",
        "b = 2           # Límite superior del intervalo\n",
        "alpha = 0.5     # Valor inicial y(0) = 0.5\n",
        "N = 4           # Número de subintervalos\n",
        "\n",
        "# calculamos el tamaño de paso\n",
        "h = (b - a) / N\n",
        "\n",
        "# listas que almacenarán los resultados\n",
        "t_values = [a]                     # Lista de t_i\n",
        "w_values = [alpha]                # Lista de w_i (aproximacionesEuler)\n",
        "exact_values = [y_exacta(a)]      # Lista de valores exactos\n",
        "errors = [abs(alpha - y_exacta(a))]  # Lista de errores absolutos\n",
        "\n",
        "# método de Euler\n",
        "w = alpha  # Inicializamos w con el valor inicial\n",
        "\n",
        "for i in range(1, N + 1):\n",
        "    t = a + i * h                  # Calculamos el nuevo t_i\n",
        "    w = w + h * f(t - h, w)        # Calculamos el nuevo w_i usando la fórmula de Euler\n",
        "    exact = y_exacta(t)            # Calculamos la solución exacta en t_i\n",
        "    error = abs(w - exact)         # Calculamos el error absoluto\n",
        "\n",
        "    # Guardamos todos los valores en sus listas\n",
        "    t_values.append(t)\n",
        "    w_values.append(w)\n",
        "    exact_values.append(exact)\n",
        "    errors.append(error)\n",
        "\n",
        "# Creamos la tabla\n",
        "tabla = []\n",
        "for i in range(len(t_values)):\n",
        "    fila = [round(t_values[i], 6), round(w_values[i], 6), round(exact_values[i], 6), round(errors[i], 6)] #aqui redondeamos a 6 cifras\n",
        "    tabla.append(fila)\n",
        "\n",
        "# Encabezados de la tabla\n",
        "headers = [\"t_i\", \"w_i (Euler)\", \"y(t_i) exacto\", \"Error absoluto\"]\n",
        "\n",
        "\n",
        "print(tabulate(tabla, headers=headers, tablefmt=\"grid\")) #cuadricula\n",
        "\n"
      ]
    }
  ]
}