{
  "nbformat": 4,
  "nbformat_minor": 0,
  "metadata": {
    "colab": {
      "provenance": [],
      "authorship_tag": "ABX9TyNge6XfoBLAON6bXctwZQjJ",
      "include_colab_link": true
    },
    "kernelspec": {
      "name": "python3",
      "display_name": "Python 3"
    },
    "language_info": {
      "name": "python"
    }
  },
  "cells": [
    {
      "cell_type": "markdown",
      "metadata": {
        "id": "view-in-github",
        "colab_type": "text"
      },
      "source": [
        "<a href=\"https://colab.research.google.com/github/BrandonOrtiz7/Metodos-numericos/blob/main/Hermte.ipynb\" target=\"_parent\"><img src=\"https://colab.research.google.com/assets/colab-badge.svg\" alt=\"Open In Colab\"/></a>"
      ]
    },
    {
      "cell_type": "markdown",
      "source": [
        "POLINOMIO DE HERMITE\n",
        "\n",
        "técnica de interpolación polinomial que utiliza tanto los valores de la función como los valores de sus derivadas en puntos específicos para construir un polinomio que se ajuste a esta información. Es una extensión del método de Newton de diferencias divididas y se utiliza para obtener una interpolación más precisa cuando se tiene información sobre las derivadas de la función además de sus valores"
      ],
      "metadata": {
        "id": "Ax6rZ57VDqaz"
      }
    },
    {
      "cell_type": "code",
      "execution_count": 14,
      "metadata": {
        "colab": {
          "base_uri": "https://localhost:8080/"
        },
        "id": "7zKw45U9DaR3",
        "outputId": "36958a60-abca-480a-a920-bd655f453517"
      },
      "outputs": [
        {
          "output_type": "stream",
          "name": "stdout",
          "text": [
            "Tabla de diferencias divididas de Hermite:\n",
            "+----------+-----------+-------------+-----------+------------+-------------+\n",
            "| 0.620086 |  0        |  0          | 0         | 0          |  0          |\n",
            "+----------+-----------+-------------+-----------+------------+-------------+\n",
            "| 0.620086 | -0.522023 |  0          | 0         | 0          |  0          |\n",
            "+----------+-----------+-------------+-----------+------------+-------------+\n",
            "| 0.455402 | -0.548946 | -0.0897427  | 0         | 0          |  0          |\n",
            "+----------+-----------+-------------+-----------+------------+-------------+\n",
            "| 0.455402 | -0.569896 | -0.069833   | 0.0663656 | 0          |  0          |\n",
            "+----------+-----------+-------------+-----------+------------+-------------+\n",
            "| 0.281819 | -0.578612 | -0.0290537  | 0.0679656 | 0.00266667 |  0          |\n",
            "+----------+-----------+-------------+-----------+------------+-------------+\n",
            "| 0.281819 | -0.581157 | -0.00848367 | 0.0685667 | 0.00100185 | -0.00277469 |\n",
            "+----------+-----------+-------------+-----------+------------+-------------+\n",
            "\n",
            "Coeficientes del polinomio de Hermite:\n",
            "Q[0,0] = 0.620086\n",
            "Q[1,1] = -0.5220232\n",
            "Q[2,2] = -0.08974266666666673\n",
            "Q[3,3] = 0.06636555555555616\n",
            "Q[4,4] = 0.002666666666662164\n",
            "Q[5,5] = -0.0027746913579894407\n"
          ]
        }
      ],
      "source": [
        "import numpy as np\n",
        "from tabulate import tabulate\n",
        "\n",
        "def hermite_(x, fx, dfx):\n",
        "    n = len(x)\n",
        "\n",
        "    # creamos matriz Q de tamaño (2n x 2n) inicializada en 0.0\n",
        "    Q = [[0.0 for _ in range(2 * n)] for _ in range(2 * n)]\n",
        "    z = [0.0 for _ in range(2 * n)] #guardamos los nodos duplicados en este arreglo de tamaño 2n\n",
        "\n",
        "    # inicialización de nodos y tabla Q\n",
        "    for i in range(n):\n",
        "        z[2 * i] = x[i]    #duplicamos cada nodo\n",
        "        z[2 * i + 1] = x[i]\n",
        "        Q[2 * i][0] = fx[i] #llenamos la primer columnna con los valores que conocemos de la funcion\n",
        "        Q[2 * i + 1][0] = fx[i]\n",
        "        Q[2 * i + 1][1] = dfx[i] #llenamos la segunda columa con las derivadas\n",
        "        if i != 0:\n",
        "            xi = z[2 * i]\n",
        "            xi_1 = z[2 * i - 1]\n",
        "            num = Q[2 * i][0] - Q[2 * i - 1][0]  #comenzamos con los calculas de las diferencias divididas\n",
        "            den = xi - xi_1\n",
        "            Q[2 * i][1] = num / den\n",
        "\n",
        "    # cálculo de diferencias divididas\n",
        "    for i in range(2, 2 * n):\n",
        "        for j in range(2, i + 1):\n",
        "            xi = z[i]\n",
        "            xi_j = z[i - j]\n",
        "            num = Q[i][j - 1] - Q[i - 1][j - 1]\n",
        "            den = xi - xi_j\n",
        "            Q[i][j] = num / den\n",
        "\n",
        "    # imprimir tabla utilizando tabulate\n",
        "\n",
        "    print(\"Tabla de diferencias divididas de Hermite:\")\n",
        "    print(tabulate(Q, tablefmt=\"grid\"))\n",
        "\n",
        "    # coeficientes del polinomio\n",
        "    coef = [Q[i][i] for i in range(2 * n)]\n",
        "\n",
        "    print(\"\\nCoeficientes del polinomio de Hermite:\")\n",
        "    for i, c in enumerate(coef):\n",
        "        print(f\"Q[{i},{i}] = {c}\")\n",
        "\n",
        "    return None\n",
        "\n",
        "\n",
        "x = [1.3, 1.6, 1.9]\n",
        "fx = [0.6200860, 0.4554022, 0.2818186 ]\n",
        "dfx = [-.5220232, -.5698959, -.5811571]\n",
        "hermite_(x, fx, dfx)\n",
        "\n"
      ]
    }
  ]
}