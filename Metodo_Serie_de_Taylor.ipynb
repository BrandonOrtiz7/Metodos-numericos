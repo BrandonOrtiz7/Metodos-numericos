{
  "nbformat": 4,
  "nbformat_minor": 0,
  "metadata": {
    "colab": {
      "provenance": [],
      "authorship_tag": "ABX9TyN8YVVJ7STTA/Et4M+atpeV",
      "include_colab_link": true
    },
    "kernelspec": {
      "name": "python3",
      "display_name": "Python 3"
    },
    "language_info": {
      "name": "python"
    }
  },
  "cells": [
    {
      "cell_type": "markdown",
      "metadata": {
        "id": "view-in-github",
        "colab_type": "text"
      },
      "source": [
        "<a href=\"https://colab.research.google.com/github/BrandonOrtiz7/Metodos-numericos/blob/main/Metodo_Serie_de_Taylor.ipynb\" target=\"_parent\"><img src=\"https://colab.research.google.com/assets/colab-badge.svg\" alt=\"Open In Colab\"/></a>"
      ]
    },
    {
      "cell_type": "code",
      "execution_count": 4,
      "metadata": {
        "colab": {
          "base_uri": "https://localhost:8080/"
        },
        "id": "SA80k8u9VD_J",
        "outputId": "74afb87c-3ae2-46bd-c7de-e0dfe3d6080a"
      },
      "outputs": [
        {
          "output_type": "stream",
          "name": "stdout",
          "text": [
            "+-------+------------------------+-----------------+------------------+\n",
            "|   t_i |   w_i (Taylor orden 4) |   y(t_i) exacto |   Error absoluto |\n",
            "+=======+========================+=================+==================+\n",
            "|   0   |               0.5      |        0.5      |         0        |\n",
            "+-------+------------------------+-----------------+------------------+\n",
            "|   0.2 |               0.831367 |        0.829299 |         0.002068 |\n",
            "+-------+------------------------+-----------------+------------------+\n",
            "|   0.4 |               1.21908  |        1.21409  |         0.004995 |\n",
            "+-------+------------------------+-----------------+------------------+\n",
            "|   0.6 |               1.65788  |        1.64894  |         0.008936 |\n",
            "+-------+------------------------+-----------------+------------------+\n",
            "|   0.8 |               2.1413   |        2.12723  |         0.014074 |\n",
            "+-------+------------------------+-----------------+------------------+\n",
            "|   1   |               2.66148  |        2.64086  |         0.020622 |\n",
            "+-------+------------------------+-----------------+------------------+\n",
            "|   1.2 |               3.20877  |        3.17994  |         0.028828 |\n",
            "+-------+------------------------+-----------------+------------------+\n",
            "|   1.4 |               3.77138  |        3.7324   |         0.038983 |\n",
            "+-------+------------------------+-----------------+------------------+\n",
            "|   1.6 |               4.33491  |        4.28348  |         0.051422 |\n",
            "+-------+------------------------+-----------------+------------------+\n",
            "|   1.8 |               4.88171  |        4.81518  |         0.066537 |\n",
            "+-------+------------------------+-----------------+------------------+\n",
            "|   2   |               5.39025  |        5.30547  |         0.084778 |\n",
            "+-------+------------------------+-----------------+------------------+\n"
          ]
        }
      ],
      "source": [
        "import math\n",
        "from tabulate import tabulate\n",
        "\n",
        "# Definimos la función f(t, y) correspondiente a y' = y - t^2 + 1\n",
        "def f(t, y):\n",
        "    return y - t**2 + 1\n",
        "\n",
        "# Primera derivada de f con respecto al tiempo t (obtenida manualmente como en el libro)\n",
        "# f1(t, y) = f(t, y) - 2t\n",
        "def f1(t, y):\n",
        "    return f(t, y) - 2*t\n",
        "\n",
        "# Segunda derivada de f, también construida a mano como en el ejemplo de Burden\n",
        "# f2(t, y) = f1(t, y) - 2 + f(t, y)\n",
        "def f2(t, y):\n",
        "    return f1(t, y) - 2 + f(t, y)\n",
        "\n",
        "# Tercera derivada de f, siguiendo el mismo patrón simplificado\n",
        "# f3(t, y) = f2(t, y) - 2 + f1(t, y)\n",
        "def f3(t, y):\n",
        "    return f2(t, y) - 2 + f1(t, y)\n",
        "\n",
        "# Función para calcular el polinomio de Taylor T^(n)(t, w) de orden dado\n",
        "def T_n(t, w, h, n):\n",
        "    T = f(t, w)                        # Término de orden 0: f(t, w)\n",
        "    if n >= 2:\n",
        "        T += (h / 2) * f1(t, w)       # Término de orden 1: h/2 * f'(t, w)\n",
        "    if n >= 3:\n",
        "        T += (h**2 / 6) * f2(t, w)    # Término de orden 2: h^2/6 * f''(t, w)\n",
        "    if n >= 4:\n",
        "        T += (h**3 / 24) * f3(t, w)   # Término de orden 3: h^3/24 * f'''(t, w)\n",
        "    return T\n",
        "\n",
        "# Solución exacta de la EDO para comparar y calcular errores\n",
        "def y_exacta(t):\n",
        "    return (t + 1)**2 - 0.5 * math.exp(t)\n",
        "\n",
        "# --- PARÁMETROS DEL PROBLEMA ---\n",
        "a = 0           # Extremo izquierdo del intervalo\n",
        "b = 2           # Extremo derecho del intervalo\n",
        "alpha = 0.5     # Valor inicial y(0) = 0.5\n",
        "N = 10          # Número de subintervalos (10 pasos → 11 puntos)\n",
        "n = 4           # Orden del método de Taylor que se va a usar (puede cambiarse a 2, 3, etc.)\n",
        "\n",
        "# Cálculo del tamaño de paso h\n",
        "h = (b - a) / N\n",
        "\n",
        "# Inicializamos las listas para guardar resultados en cada paso\n",
        "t_values = [a]                     # Lista para almacenar los valores t_i\n",
        "w_values = [alpha]                # Lista para almacenar las aproximaciones w_i\n",
        "exact_values = [y_exacta(a)]      # Lista para almacenar valores exactos de y(t_i)\n",
        "errors = [abs(alpha - y_exacta(a))]  # Lista para almacenar el error absoluto en cada paso\n",
        "\n",
        "# Inicializamos w con la condición inicial\n",
        "w = alpha\n",
        "\n",
        "# --- MÉTODO DE TAYLOR ---\n",
        "# Recorremos los pasos de 1 a N para calcular w_i en cada t_i\n",
        "for i in range(1, N + 1):\n",
        "    t = a + (i - 1) * h           # Calculamos el valor actual de t_i\n",
        "    w = w + h * T_n(t, w, h, n)   # Usamos la fórmula de Taylor para obtener w_{i}\n",
        "    t_new = a + i * h             # Calculamos t_{i+1} para almacenarlo\n",
        "    exact = y_exacta(t_new)       # Evaluamos la solución exacta en t_{i+1}\n",
        "    error = abs(w - exact)        # Calculamos el error absoluto entre w_i y y(t_i)\n",
        "\n",
        "    # Guardamos los valores en sus respectivas listas\n",
        "    t_values.append(t_new)\n",
        "    w_values.append(w)\n",
        "    exact_values.append(exact)\n",
        "    errors.append(error)\n",
        "\n",
        "# --- CONSTRUCCIÓN DE LA TABLA ---\n",
        "tabla = []  # Lista vacía para almacenar las filas de la tabla\n",
        "\n",
        "# Recorremos los valores almacenados y formamos las filas de la tabla\n",
        "for i in range(len(t_values)):\n",
        "    fila = [round(t_values[i], 6),      # t_i redondeado a 6 decimales\n",
        "            round(w_values[i], 6),      # w_i (Taylor) redondeado\n",
        "            round(exact_values[i], 6),  # y(t_i) exacto redondeado\n",
        "            round(errors[i], 6)]        # Error absoluto redondeado\n",
        "    tabla.append(fila)                 # Agregamos la fila a la tabla\n",
        "\n",
        "# Definimos los encabezados de la tabla\n",
        "headers = [\"t_i\", f\"w_i (Taylor orden {n})\", \"y(t_i) exacto\", \"Error absoluto\"]\n",
        "\n",
        "# Imprimimos la tabla con formato de cuadrícula usando tabulate\n",
        "print(tabulate(tabla, headers=headers, tablefmt=\"grid\"))\n"
      ]
    }
  ]
}