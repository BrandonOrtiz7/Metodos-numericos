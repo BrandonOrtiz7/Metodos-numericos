{
  "nbformat": 4,
  "nbformat_minor": 0,
  "metadata": {
    "colab": {
      "provenance": [],
      "authorship_tag": "ABX9TyMKlRcloku9Rh4ejGPHzBtT",
      "include_colab_link": true
    },
    "kernelspec": {
      "name": "python3",
      "display_name": "Python 3"
    },
    "language_info": {
      "name": "python"
    }
  },
  "cells": [
    {
      "cell_type": "markdown",
      "metadata": {
        "id": "view-in-github",
        "colab_type": "text"
      },
      "source": [
        "<a href=\"https://colab.research.google.com/github/BrandonOrtiz7/Metodos-numericos/blob/main/Biseccion.ipynb\" target=\"_parent\"><img src=\"https://colab.research.google.com/assets/colab-badge.svg\" alt=\"Open In Colab\"/></a>"
      ]
    },
    {
      "cell_type": "code",
      "execution_count": 21,
      "metadata": {
        "id": "pmw6rqdv7Bqf"
      },
      "outputs": [],
      "source": [
        "from tabulate import tabulate #libreria para representar la tabla"
      ]
    },
    {
      "cell_type": "code",
      "source": [
        "\n",
        "def f(x):\n",
        "    return x**3 + 4*x**2 - 10 #definimos la ecuacion"
      ],
      "metadata": {
        "id": "bH8EB8A6_Tq5"
      },
      "execution_count": 22,
      "outputs": []
    },
    {
      "cell_type": "code",
      "source": [
        "def biseccion(an, bn, er, n): #definimos el metodo de biseccion, las definimos por separado para mandar a llamar a la ecuacion cuando se requiera el metodo}\n",
        "\n",
        "    if f(an) * f(bn) > 0:\n",
        "       print(\"No hay raiz en este intervalo, prueba con otro\") #definimos una condicion para cuando se dio un intervalo incorrecto\n",
        "       return None\n",
        "    tabla=[] #inicializamos lista en ceros para almacenar los resultados\n",
        "    i=1 #contamos las iteraciones o el numero de intentos que se llevara el metodo de biseccion\n",
        "    FA=f(an)   #igualamos FA a la funcion evaluada\n",
        "    while i <= n : #iniciamos con la condicion del ciclo\n",
        "      p = an + (bn-an)/2  #encontramos el punto medio\n",
        "      FP = f(p) #evaluamos la funcion en el punto medio (asi sabremos su signo)\n",
        "      e=(bn-an)/2 #calculamos el error\n",
        "      tabla.append([i, an, bn, p, FP, e]) #añadimos los resultados a la tabla, (bn - an) / 2 usamos esa expresion para medir el error de una manera mas eficiente( el error máximo posible es la distancia desde p hasta cualquiera de los extremos.)\n",
        "\n",
        "      if FP == 0 or e < er: #si p es igual a cero se detiene el bucle o si el error conseguido es menor al error establecido entonces ya tenemos una buena aproximacion\n",
        "        print(f\"Se encontro la raiz: {p}\")\n",
        "        print(tabulate(tabla, headers=[\"Iteración\", \"an\", \"bn\", \"pn\", \"f(p)\", \"Error\"], floatfmt=\".9f\"))#floatfmt para especificar que seran 9 flotantes despues del punto\n",
        "        return None #terminamos la funcion aqui\n",
        "      i+=1\n",
        "      if FA * FP > 0:\n",
        "        an = p\n",
        "        FA = FP\n",
        "      else:\n",
        "        bn = p\n",
        "\n",
        "\n",
        "    print(\"El método fracasó después de\", n, \"iteraciones, se requieren mas.\") #se imprime cuando el while llego a su fin de iteraciones y no se pudo cumplir el if  FP == 0 or e < er:\n",
        "\n",
        "\n",
        "biseccion(1, 2, 10**-4, 20)"
      ],
      "metadata": {
        "colab": {
          "base_uri": "https://localhost:8080/"
        },
        "id": "8GB71i_Zr0PU",
        "outputId": "343f1aaf-b601-4b7c-a771-b6513a34fdda"
      },
      "execution_count": 31,
      "outputs": [
        {
          "output_type": "stream",
          "name": "stdout",
          "text": [
            "Se encontro la raiz: 1.36517333984375\n",
            "  Iteración           an           bn           pn          f(p)        Error\n",
            "-----------  -----------  -----------  -----------  ------------  -----------\n",
            "          1  1.000000000  2.000000000  1.500000000   2.375000000  0.500000000\n",
            "          2  1.000000000  1.500000000  1.250000000  -1.796875000  0.250000000\n",
            "          3  1.250000000  1.500000000  1.375000000   0.162109375  0.125000000\n",
            "          4  1.250000000  1.375000000  1.312500000  -0.848388672  0.062500000\n",
            "          5  1.312500000  1.375000000  1.343750000  -0.350982666  0.031250000\n",
            "          6  1.343750000  1.375000000  1.359375000  -0.096408844  0.015625000\n",
            "          7  1.359375000  1.375000000  1.367187500   0.032355785  0.007812500\n",
            "          8  1.359375000  1.367187500  1.363281250  -0.032149971  0.003906250\n",
            "          9  1.363281250  1.367187500  1.365234375   0.000072025  0.001953125\n",
            "         10  1.363281250  1.365234375  1.364257812  -0.016046691  0.000976562\n",
            "         11  1.364257812  1.365234375  1.364746094  -0.007989263  0.000488281\n",
            "         12  1.364746094  1.365234375  1.364990234  -0.003959102  0.000244141\n",
            "         13  1.364990234  1.365234375  1.365112305  -0.001943659  0.000122070\n",
            "         14  1.365112305  1.365234375  1.365173340  -0.000935847  0.000061035\n"
          ]
        }
      ]
    }
  ]
}