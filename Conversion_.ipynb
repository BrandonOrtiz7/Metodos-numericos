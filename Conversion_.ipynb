{
  "nbformat": 4,
  "nbformat_minor": 0,
  "metadata": {
    "colab": {
      "provenance": [],
      "authorship_tag": "ABX9TyMOWIVsrcTLxr0+KMeETrAs",
      "include_colab_link": true
    },
    "kernelspec": {
      "name": "python3",
      "display_name": "Python 3"
    },
    "language_info": {
      "name": "python"
    }
  },
  "cells": [
    {
      "cell_type": "markdown",
      "metadata": {
        "id": "view-in-github",
        "colab_type": "text"
      },
      "source": [
        "<a href=\"https://colab.research.google.com/github/BrandonOrtiz7/Metodos-numericos/blob/main/Conversion_.ipynb\" target=\"_parent\"><img src=\"https://colab.research.google.com/assets/colab-badge.svg\" alt=\"Open In Colab\"/></a>"
      ]
    },
    {
      "cell_type": "markdown",
      "source": [
        "**CONVERTIDOR DE NUMEROS EN BASE 10 AL SISTEMA BINARIO**\n",
        "\n",
        "\n",
        "\n",
        "\n"
      ],
      "metadata": {
        "id": "ZGLdWjW4Xds9"
      }
    },
    {
      "cell_type": "markdown",
      "source": [
        " Conversión de un número entero en base 10 al sistema binario."
      ],
      "metadata": {
        "id": "Rd8UsXMxhmne"
      }
    },
    {
      "cell_type": "code",
      "source": [
        "def decimal_binario(n): #definimos la funcion que vamos a llamar para convertir numeros enteros a su forma binaria\n",
        "    binario = [] #inicializamos esta lista en cero para que los \"1\" y \"0\" se guarden ahi\n",
        "    while n > 0: #paramos el proceso de dividir cuando el cociente llegue a 0\n",
        "        residuo = n % 2 #guardamos el residuo de dividir entre 2, ya que siempre sera 1 o 0\n",
        "        binario.append(str(residuo)) #los convertimos a cadena para poder manejar la lista y cada residuo se lo vamos agregando\n",
        "        n = n // 2 #actualizamos el valor de n despues de conocer el residuo pero solo tomamos la parte entera del cociente de la dvision\n",
        "    return \"\".join(binario[::-1]) #la funcion nos va a regresar la lista que contiene los \"1\" y \"0\" pero ya invertida y unida en una sola cadena sin espacios\n",
        "\n",
        "numero = int(input(\"Ingrese un numero: \"))\n",
        "resultado = decimal_binario(numero) #llamamos a la funcion\n",
        "print (f\"El numero {numero} en binario es: {resultado}\")\n"
      ],
      "metadata": {
        "id": "7HohVqmyg8JA",
        "outputId": "aa33e542-4291-46ca-8cb5-a45eac552489",
        "colab": {
          "base_uri": "https://localhost:8080/"
        }
      },
      "execution_count": 3,
      "outputs": [
        {
          "output_type": "stream",
          "name": "stdout",
          "text": [
            "Ingrese un numero: 10\n",
            "El numero 10 en binario es: 1010\n"
          ]
        }
      ]
    },
    {
      "cell_type": "markdown",
      "source": [
        "Conversión de un número decimal en base 10 al sistema binario."
      ],
      "metadata": {
        "id": "4JrzTBjLjE5f"
      }
    },
    {
      "cell_type": "code",
      "source": [
        "def fraccion_binario(fraccion):\n",
        "    binario = [] #inicializamos lista\n",
        "    while fraccion > 0 and len(binario) < 11: #ponemos una longitud limite para prevenir cuando el resultado es periodico\n",
        "        fraccion *= 2 #multplicamos el numero por dos\n",
        "        entero = int(fraccion) #del resultado solo guardamos la parte entera\n",
        "        binario.append(str(entero)) #lo agregamos a la lista\n",
        "        fraccion -= entero #del nuevo numero fraccionario eliminamos la parte entera y repetimos el proceso\n",
        "    return \"\".join(binario)\n",
        "\n",
        "numero = float(input(\"Ingrese un numero: \"))\n",
        "resultado = fraccion_binario(numero) #llamamos a la funcion\n",
        "print (f\"El numero {numero} en binario es: .{resultado}\")\n"
      ],
      "metadata": {
        "id": "ncbftwYiiiOt",
        "outputId": "1da4c4f1-5363-47c1-f96b-4921b848ecb2",
        "colab": {
          "base_uri": "https://localhost:8080/"
        }
      },
      "execution_count": 4,
      "outputs": [
        {
          "output_type": "stream",
          "name": "stdout",
          "text": [
            "Ingrese un numero: .6875\n",
            "El numero 0.6875 en binario es: .1011\n"
          ]
        }
      ]
    },
    {
      "cell_type": "markdown",
      "source": [
        "Conversion de un numero entero con decimal a binario (todo en un fragmento de codigo)"
      ],
      "metadata": {
        "id": "mddgve4mkACG"
      }
    },
    {
      "cell_type": "code",
      "source": [
        "def decimal_binario(n): #definimos la funcion que vamos a llamar para convertir numeros enteros a su forma binaria\n",
        "    binario = [] #inicializamos esta lista en cero para que los \"1\" y \"0\" se guarden ahi\n",
        "    while n > 0: #paramos el proceso de dividir cuando el cociente llegue a 0\n",
        "        residuo = n % 2 #guardamos el residuo de dividir entre 2, ya que siempre sera 1 o 0\n",
        "        binario.append(str(residuo)) #los convertimos a cadena para poder manejar la lista y cada residuo se lo vamos agregando\n",
        "        n = n // 2 #actualizamos el valor de n despues de conocer el residuo pero solo tomamos la parte entera del cociente de la dvision\n",
        "    return \"\".join(binario[::-1]) #la funcion nos va a regresar la lista que contiene los \"1\" y \"0\" pero ya invertida y unida en una sola cadena sin espacios\n",
        "\n",
        "\n",
        "def fraccion_binario(fraccion):\n",
        "    binario = [] #inicializamos lista\n",
        "    while fraccion > 0 and len(binario) < 11: #ponemos una longitud limite para prevenir cuando el resultado es periodico\n",
        "        fraccion *= 2 #multplicamos el numero por dos\n",
        "        entero = int(fraccion) #del resultado solo guardamos la parte entera\n",
        "        binario.append(str(entero)) #lo agregamos a la lista\n",
        "        fraccion -= entero #del nuevo numero fraccionario eliminamos la parte entera y repetimos el proceso\n",
        "    return \"\".join(binario)\n",
        "\n",
        "\n",
        "def conversion(numero):\n",
        "    entero = int(numero)  #tomamos la parte entera\n",
        "    fraccionario = numero - entero  #tomamos la parte decimal\n",
        "\n",
        "    binario_entero = decimal_binario(entero)  #convertimos la parte entera\n",
        "    binario_fraccionario = fraccion_binario(fraccionario)  #convertimos la parte fraccionaria\n",
        "\n",
        "    if binario_fraccionario:\n",
        "        return f\"{binario_entero}.{binario_fraccionario}\"  #las unimos\n",
        "    else:\n",
        "        return binario_entero  #si no hay parte fraccionaria solo devolvemos la parte entera\n",
        "\n",
        "numero = float(input(\"Ingrese un numero: \"))\n",
        "resultado = conversion(numero) #llamamos a la funcion\n",
        "print (f\"El numero {numero} en binario es: {resultado}\")\n"
      ],
      "metadata": {
        "colab": {
          "base_uri": "https://localhost:8080/"
        },
        "id": "ecKBQyd21sT1",
        "outputId": "be3a4e2a-ee46-47e2-dc05-005756c2a3ae"
      },
      "execution_count": 5,
      "outputs": [
        {
          "output_type": "stream",
          "name": "stdout",
          "text": [
            "Ingrese un numero: 10.6875\n",
            "El numero 10.6875 en binario es: 1010.1011\n"
          ]
        }
      ]
    },
    {
      "cell_type": "markdown",
      "source": [
        "**CONVERTIDOR DE NUMEROS ENTEROS EN BASE 10 AL SISTEMA OCTAL**"
      ],
      "metadata": {
        "id": "0gUpt52hla3F"
      }
    },
    {
      "cell_type": "code",
      "source": [
        "def entero_octal(n): #definimos la funcion que hara l conversion de decimal a octal\n",
        "    octal=[] #inicializamos una lista en cero, serivra para ir guardando cada elemento\n",
        "    while n > 0: #detenemos el proceso cuando el cociente es igual a cero\n",
        "        residuo = n % 8 #usamos modulo 8 para conocer el residuo\n",
        "        octal.append(str(residuo)) #convertimos los residuos de enteros a cadenas para poder usar join y asi agregarlos a la lista octal\n",
        "        n = n // 8 #actualizamos el valor de n a solo la parte entera de la division entre 8 y repetimos el proceso con el nuevo valor de n\n",
        "    return \"\".join(octal[::-1]) #la funcion nos va a regresar la lista octal con todos los valores guardados pero invertida, usamos join para unir los elementos de la lista en una sola cadena sin espacio\n",
        "\n",
        "numero = int(input(\"Ingrese un numero entero: \")) #le pedimos al usuario que ingrese un numero\n",
        "resultado = entero_octal(numero) #llamamos a la funcion para que convierta el numero que escribio el usuario a su forma en el sistema octal\n",
        "print (f\"El numero {numero} en octal es: {resultado}\") #imprimimos resultado\n",
        "\n",
        "\n",
        ""
      ],
      "metadata": {
        "id": "WBJn7nfgAx2u",
        "outputId": "c7b41d24-3e95-43ea-801d-269b93ec88d5",
        "colab": {
          "base_uri": "https://localhost:8080/"
        }
      },
      "execution_count": 7,
      "outputs": [
        {
          "output_type": "stream",
          "name": "stdout",
          "text": [
            "Ingrese un numero entero: 17\n",
            "El numero 17 en octal es: 21\n"
          ]
        }
      ]
    }
  ]
}