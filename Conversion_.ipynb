{
  "nbformat": 4,
  "nbformat_minor": 0,
  "metadata": {
    "colab": {
      "provenance": [],
      "authorship_tag": "ABX9TyN9XdJailEsymSakqgYc7pM",
      "include_colab_link": true
    },
    "kernelspec": {
      "name": "python3",
      "display_name": "Python 3"
    },
    "language_info": {
      "name": "python"
    }
  },
  "cells": [
    {
      "cell_type": "markdown",
      "metadata": {
        "id": "view-in-github",
        "colab_type": "text"
      },
      "source": [
        "<a href=\"https://colab.research.google.com/github/BrandonOrtiz7/Metodos-numericos/blob/main/Conversion_.ipynb\" target=\"_parent\"><img src=\"https://colab.research.google.com/assets/colab-badge.svg\" alt=\"Open In Colab\"/></a>"
      ]
    },
    {
      "cell_type": "markdown",
      "source": [
        "# Convertidor de numeros decimales a binario\n",
        "\n",
        "\n",
        "\n",
        "\n"
      ],
      "metadata": {
        "id": "ZGLdWjW4Xds9"
      }
    },
    {
      "cell_type": "code",
      "source": [
        "def decimal_binario(n): #definimos la funcion que vamos a llamar para convertir numeros enteros a su forma binaria\n",
        "    binario = [] #inicializamos esta cadena en cero para que los \"1\" y \"0\" se guarden ahi\n",
        "    while n > 0: #paramos el proceso de dividir cuando el cociente llegue a 0\n",
        "        residuo = n % 2 #guardamos el residuo de dividir entre 2, ya que siempre sera 1 o 0\n",
        "        binario.append(str(residuo)) #los convertimos a cadena para poder manejar la lista y cada residuo se lo vamos agregando\n",
        "        n = n // 2 #actualizamos el valor de n despues de conocer el residuo pero solo tomamos la parte entera del cociente de la dvision\n",
        "    return ''.join(binario[::-1]) #la funcion nos va a regresar la lista que contiene los \"1\" y \"0\" pero ya invertida y unida en una sola cadena sin espacios\n",
        "\n",
        "\n",
        "def fraccion_binario(fraccion):\n",
        "    binario = [] #inicializamos cadena\n",
        "    while fraccion > 0 and len(binario) < 11: #ponemos una longitud limite para prevenir cuando el resultado es periodico\n",
        "        fraccion *= 2 #multplicamos el numero por dos\n",
        "        entero = int(fraccion) #del resultado solo guardamos la parte entera\n",
        "        binario.append(str(entero)) #lo agregamos a la lista\n",
        "        fraccion -= entero #del nuevo numero fraccionario eliminamos la parte entera y repetimos el proceso\n",
        "    return ''.join(binario)\n",
        "\n",
        "\n",
        "def conversion(numero):\n",
        "    entero = int(numero)  #tomamos la parte entera\n",
        "    fraccionario = numero - entero  #tomamos la parte decimal\n",
        "\n",
        "    binario_entero = decimal_binario(entero)  #convertimos la parte entera\n",
        "    binario_fraccionario = fraccion_binario(fraccionario)  #convertimos la parte fraccionaria\n",
        "\n",
        "    if binario_fraccionario:\n",
        "        return f\"{binario_entero}.{binario_fraccionario}\"  #las unimos\n",
        "    else:\n",
        "        return binario_entero  #si no hay parte fraccionaria solo devolvemos la parte entera\n",
        "\n",
        "numero = float(input(\"Ingrese un numero: \"))\n",
        "resultado = conversion(numero) #llamamos a la funcion\n",
        "print (f\"El numero {numero} en binario es: {resultado}\")\n"
      ],
      "metadata": {
        "colab": {
          "base_uri": "https://localhost:8080/"
        },
        "id": "ecKBQyd21sT1",
        "outputId": "92706244-4dd8-4121-82cb-807a8298acf0"
      },
      "execution_count": 2,
      "outputs": [
        {
          "output_type": "stream",
          "name": "stdout",
          "text": [
            "Ingrese un numero: 3.6875\n",
            "El numero 3.6875 en binario es: 11.1011\n"
          ]
        }
      ]
    }
  ]
}