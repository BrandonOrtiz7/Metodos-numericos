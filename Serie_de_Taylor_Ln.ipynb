{
  "nbformat": 4,
  "nbformat_minor": 0,
  "metadata": {
    "colab": {
      "provenance": [],
      "authorship_tag": "ABX9TyNa45/188CJIM5UI9GCLWUm",
      "include_colab_link": true
    },
    "kernelspec": {
      "name": "python3",
      "display_name": "Python 3"
    },
    "language_info": {
      "name": "python"
    }
  },
  "cells": [
    {
      "cell_type": "markdown",
      "metadata": {
        "id": "view-in-github",
        "colab_type": "text"
      },
      "source": [
        "<a href=\"https://colab.research.google.com/github/BrandonOrtiz7/Metodos-numericos/blob/main/Serie_de_Taylor_Ln.ipynb\" target=\"_parent\"><img src=\"https://colab.research.google.com/assets/colab-badge.svg\" alt=\"Open In Colab\"/></a>"
      ]
    },
    {
      "cell_type": "markdown",
      "source": [
        "SERIE DE TAYLOR DE $F(X)= LN(X)$"
      ],
      "metadata": {
        "id": "VPliaaKpi243"
      }
    },
    {
      "cell_type": "markdown",
      "source": [
        "De cuarto orden con x0=1"
      ],
      "metadata": {
        "id": "L-VfHgowjHT4"
      }
    },
    {
      "cell_type": "code",
      "source": [
        "import sympy as sp\n",
        "import numpy as np\n",
        "import matplotlib.pyplot as plt"
      ],
      "metadata": {
        "id": "Oq059GIIj5NV"
      },
      "execution_count": 3,
      "outputs": []
    },
    {
      "cell_type": "code",
      "source": [
        "x0 = 1 #punto en donde se centrara la serie de taylor\n",
        "n=5 #llegaremos hasta grado 4 en el polinomio esto porque la serie de taylor cuenta desde 0"
      ],
      "metadata": {
        "id": "7RDr2D7LkAI4"
      },
      "execution_count": 4,
      "outputs": []
    },
    {
      "cell_type": "code",
      "source": [
        "x=sp.Symbol('x') #definimos a x como una variable (solo un simbolo para manipularlo)"
      ],
      "metadata": {
        "id": "8bVWI04fkaNN"
      },
      "execution_count": 5,
      "outputs": []
    },
    {
      "cell_type": "code",
      "source": [
        "t = sp.ln(x).series(x, x0, n).removeO()\n",
        "#sp.ln(x) representamos el simbolo de ln\n",
        "#.series(x, x0, n) variable respecto a la que se expande la serie, punto alrededeor del cual se expande, el grado al que va a llegar(n-1)\n",
        "#removeO eliminamos el termino que esta elevado a la 5 y multiplicado por 0\n",
        "print(t)"
      ],
      "metadata": {
        "colab": {
          "base_uri": "https://localhost:8080/"
        },
        "id": "34hDinHnlq2n",
        "outputId": "669137b5-513d-4723-f94c-03a1d0cc476b"
      },
      "execution_count": 17,
      "outputs": [
        {
          "output_type": "stream",
          "name": "stdout",
          "text": [
            "x - (x - 1)**4/4 + (x - 1)**3/3 - (x - 1)**2/2 - 1\n"
          ]
        }
      ]
    },
    {
      "cell_type": "code",
      "source": [
        "t"
      ],
      "metadata": {
        "colab": {
          "base_uri": "https://localhost:8080/",
          "height": 56
        },
        "id": "hZ9fwhJJvnHN",
        "outputId": "dcf2f584-1a2d-451f-8295-9ca11c1a3265"
      },
      "execution_count": 18,
      "outputs": [
        {
          "output_type": "execute_result",
          "data": {
            "text/plain": [
              "x - (x - 1)**4/4 + (x - 1)**3/3 - (x - 1)**2/2 - 1"
            ],
            "text/latex": "$\\displaystyle x - \\frac{\\left(x - 1\\right)^{4}}{4} + \\frac{\\left(x - 1\\right)^{3}}{3} - \\frac{\\left(x - 1\\right)^{2}}{2} - 1$"
          },
          "metadata": {},
          "execution_count": 18
        }
      ]
    },
    {
      "cell_type": "markdown",
      "source": [
        "$\\ln(x) \\approx (x - 1) - \\frac{(x - 1)^2}{2} + \\frac{(x - 1)^3}{3} - \\frac{(x - 1)^4}{4}$\n"
      ],
      "metadata": {
        "id": "tXvgw6cUX5AV"
      }
    },
    {
      "cell_type": "code",
      "source": [
        "t1=sp.lambdify(x,t, \"numpy\")\n",
        "#sp.lambdif convierte expresiones simbolicas a funciones de python para poder evaluarlas\n",
        "#los parametros son:La variable simbólica que se usa en la expresion matematica, La expresión simbólica que queremos evaluar numéricamente, Indica que la función usará funciones de NumPy en lugar de SymPy.\n"
      ],
      "metadata": {
        "id": "5DI-cGGmdvSM"
      },
      "execution_count": 21,
      "outputs": []
    },
    {
      "cell_type": "code",
      "source": [
        "xx=np.linspace(0.00000001,5,1000)#genera 1000 valores en el intervalo de 0.00000001 a 5\n",
        "yc=np.log(xx)#almacena los valores de log evaluado en todos los puntos de xx\n",
        "yt=t1(xx)#evaluamos la serie de taylor en los mismos puntos de xx\n"
      ],
      "metadata": {
        "id": "uWRZZzewezXU"
      },
      "execution_count": 38,
      "outputs": []
    },
    {
      "cell_type": "code",
      "source": [
        "plt.plot(xx,yc,xx,yt)#parametros: eje x, eje y. Las primeras dos son para la curva de Ln y las otras dos son para la curva de la serie de taylor\n",
        "plt.legend(['ln(x)','Serie de Taylor orden 4'])\n",
        "plt.title('Serie de Taylor de $f(x)=ln(x)$')\n",
        "plt.grid(True)\n"
      ],
      "metadata": {
        "id": "mw6Feyapk0C7",
        "outputId": "a8d77292-e7a0-4470-f032-6f06c47865eb",
        "colab": {
          "base_uri": "https://localhost:8080/",
          "height": 454
        }
      },
      "execution_count": 39,
      "outputs": [
        {
          "output_type": "display_data",
          "data": {
            "text/plain": [
              "<Figure size 640x480 with 1 Axes>"
            ],
            "image/png": "[encoded data removed]"
          },
          "metadata": {}
        }
      ]
    }
  ]
}