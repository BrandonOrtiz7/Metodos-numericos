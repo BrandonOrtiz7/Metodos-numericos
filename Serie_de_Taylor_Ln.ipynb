{
  "nbformat": 4,
  "nbformat_minor": 0,
  "metadata": {
    "colab": {
      "provenance": [],
      "authorship_tag": "ABX9TyMQZxYar5Ux9faVfAmU2Kea",
      "include_colab_link": true
    },
    "kernelspec": {
      "name": "python3",
      "display_name": "Python 3"
    },
    "language_info": {
      "name": "python"
    }
  },
  "cells": [
    {
      "cell_type": "markdown",
      "metadata": {
        "id": "view-in-github",
        "colab_type": "text"
      },
      "source": [
        "<a href=\"https://colab.research.google.com/github/BrandonOrtiz7/Metodos-numericos/blob/main/Serie_de_Taylor_Ln.ipynb\" target=\"_parent\"><img src=\"https://colab.research.google.com/assets/colab-badge.svg\" alt=\"Open In Colab\"/></a>"
      ]
    },
    {
      "cell_type": "markdown",
      "source": [
        "SERIE DE TAYLOR DE F(X)= LN(X)"
      ],
      "metadata": {
        "id": "VPliaaKpi243"
      }
    },
    {
      "cell_type": "markdown",
      "source": [
        "De cuarto orden con x0=1"
      ],
      "metadata": {
        "id": "L-VfHgowjHT4"
      }
    },
    {
      "cell_type": "code",
      "source": [
        "import sympy as sp\n",
        "import numpy as np\n",
        "import matplotlib.pyplot as plt"
      ],
      "metadata": {
        "id": "Oq059GIIj5NV"
      },
      "execution_count": 2,
      "outputs": []
    },
    {
      "cell_type": "code",
      "source": [
        "x0 = 1 #punto en donde se centrara la serie de taylor\n",
        "n=5 #llegaremos hasta grado 4 en el polinomio esto porque la serie de taylor cuenta desde 0"
      ],
      "metadata": {
        "id": "7RDr2D7LkAI4"
      },
      "execution_count": 3,
      "outputs": []
    },
    {
      "cell_type": "code",
      "source": [
        "x=sp.Symbol('x') #definimos a x como una variable (solo un simbolo para manipularlo)"
      ],
      "metadata": {
        "id": "8bVWI04fkaNN"
      },
      "execution_count": 4,
      "outputs": []
    },
    {
      "cell_type": "code",
      "source": [
        "t = sp.ln(x).series(x, x0, n).removeO()\n",
        "print(t)"
      ],
      "metadata": {
        "colab": {
          "base_uri": "https://localhost:8080/"
        },
        "id": "34hDinHnlq2n",
        "outputId": "be5d4b9b-4364-40af-d100-86b60e86bc37"
      },
      "execution_count": 15,
      "outputs": [
        {
          "output_type": "stream",
          "name": "stdout",
          "text": [
            "x - (x - 1)**4/4 + (x - 1)**3/3 - (x - 1)**2/2 - 1\n"
          ]
        }
      ]
    },
    {
      "cell_type": "code",
      "source": [
        "t"
      ],
      "metadata": {
        "colab": {
          "base_uri": "https://localhost:8080/",
          "height": 56
        },
        "id": "hZ9fwhJJvnHN",
        "outputId": "2dba762f-270a-42c3-8dfd-b369d48c0284"
      },
      "execution_count": 16,
      "outputs": [
        {
          "output_type": "execute_result",
          "data": {
            "text/plain": [
              "x - (x - 1)**4/4 + (x - 1)**3/3 - (x - 1)**2/2 - 1"
            ],
            "text/latex": "$\\displaystyle x - \\frac{\\left(x - 1\\right)^{4}}{4} + \\frac{\\left(x - 1\\right)^{3}}{3} - \\frac{\\left(x - 1\\right)^{2}}{2} - 1$"
          },
          "metadata": {},
          "execution_count": 16
        }
      ]
    }
  ]
}