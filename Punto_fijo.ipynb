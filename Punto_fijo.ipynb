{
  "nbformat": 4,
  "nbformat_minor": 0,
  "metadata": {
    "colab": {
      "provenance": [],
      "authorship_tag": "ABX9TyOen0zL3WkBeJM47vk6iJYR",
      "include_colab_link": true
    },
    "kernelspec": {
      "name": "python3",
      "display_name": "Python 3"
    },
    "language_info": {
      "name": "python"
    }
  },
  "cells": [
    {
      "cell_type": "markdown",
      "metadata": {
        "id": "view-in-github",
        "colab_type": "text"
      },
      "source": [
        "<a href=\"https://colab.research.google.com/github/BrandonOrtiz7/Metodos-numericos/blob/main/Punto_fijo.ipynb\" target=\"_parent\"><img src=\"https://colab.research.google.com/assets/colab-badge.svg\" alt=\"Open In Colab\"/></a>"
      ]
    },
    {
      "cell_type": "code",
      "source": [
        "from tabulate import tabulate  # Importamos la librería para tabular resultados\n",
        "import math"
      ],
      "metadata": {
        "id": "gBxQp9ORLBIQ"
      },
      "execution_count": 9,
      "outputs": []
    },
    {
      "cell_type": "code",
      "source": [
        "def g(x):\n",
        "    return math.sqrt(10 / (4 + x))  #tomamos la funcion g(x) como punto fijo"
      ],
      "metadata": {
        "id": "1A-Yx9R0LHfD"
      },
      "execution_count": 10,
      "outputs": []
    },
    {
      "cell_type": "code",
      "execution_count": 11,
      "metadata": {
        "colab": {
          "base_uri": "https://localhost:8080/"
        },
        "id": "_GqHqvjwFdav",
        "outputId": "377eb7d7-7300-4100-ff59-d85adf1f8d7a"
      },
      "outputs": [
        {
          "output_type": "stream",
          "name": "stdout",
          "text": [
            "+-------------+-------------+-------------+-------------+\n",
            "|   Iteración |          p0 |           p |       Error |\n",
            "+=============+=============+=============+=============+\n",
            "|           1 | 1.500000000 | 1.348399725 | 0.151600275 |\n",
            "+-------------+-------------+-------------+-------------+\n",
            "|           2 | 1.348399725 | 1.367376372 | 0.018976647 |\n",
            "+-------------+-------------+-------------+-------------+\n",
            "|           3 | 1.367376372 | 1.364957015 | 0.002419357 |\n",
            "+-------------+-------------+-------------+-------------+\n",
            "|           4 | 1.364957015 | 1.365264748 | 0.000307733 |\n",
            "+-------------+-------------+-------------+-------------+\n",
            "|           5 | 1.365264748 | 1.365225594 | 0.000039154 |\n",
            "+-------------+-------------+-------------+-------------+\n",
            "|           6 | 1.365225594 | 1.365230576 | 0.000004982 |\n",
            "+-------------+-------------+-------------+-------------+\n",
            "|           7 | 1.365230576 | 1.365229942 | 0.000000634 |\n",
            "+-------------+-------------+-------------+-------------+\n",
            "|           8 | 1.365229942 | 1.365230023 | 0.000000081 |\n",
            "+-------------+-------------+-------------+-------------+\n",
            "|           9 | 1.365230023 | 1.365230012 | 0.000000010 |\n",
            "+-------------+-------------+-------------+-------------+\n",
            "|          10 | 1.365230012 | 1.365230014 | 0.000000001 |\n",
            "+-------------+-------------+-------------+-------------+\n",
            "|          11 | 1.365230014 | 1.365230013 | 0.000000000 |\n",
            "+-------------+-------------+-------------+-------------+\n",
            "Se encontró una aproximación: 1.3652300133953523\n"
          ]
        },
        {
          "output_type": "execute_result",
          "data": {
            "text/plain": [
              "1.3652300133953523"
            ]
          },
          "metadata": {},
          "execution_count": 11
        }
      ],
      "source": [
        "def punto_fijo(p0, TOL, N0):\n",
        "    i = 1  # inicializamos el contador de iteraciones\n",
        "    tabla = []  # lista para almacenar los resultados\n",
        "\n",
        "    while i <= N0:\n",
        "        p = g(p0)  # Calculamos p\n",
        "        error = abs(p - p0)  # Calculamos el error absoluto\n",
        "\n",
        "        tabla.append([i, p0, p, error])  # Agregamos la iteración a la tabla\n",
        "\n",
        "        if error < TOL:  # Si el error es menor que la tolerancia, el método converge\n",
        "            print(tabulate(tabla, headers=[\"Iteración\", \"p0\", \"p\", \"Error\"], floatfmt=\".9f\", tablefmt=\"grid\"))\n",
        "            print(f\"Se encontró una aproximación: {p}\")\n",
        "            return p\n",
        "\n",
        "        i += 1  # Incrementamos el contador de iteraciones\n",
        "        p0 = p  # Actualizamos p0\n",
        "\n",
        "    print(f\"El método falló después de {N0} iteraciones.\")\n",
        "    print(tabulate(tabla, headers=[\"Iteración\", \"p0\", \"p\", \"Error\"], floatfmt=\".9f\", tablefmt=\"grid\"))\n",
        "    return None\n",
        "\n",
        "# Llamada a la función con valores iniciales\n",
        "punto_fijo(1.5, 1e-9, 20)\n"
      ]
    }
  ]
}