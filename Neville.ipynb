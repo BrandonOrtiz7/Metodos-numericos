{
  "nbformat": 4,
  "nbformat_minor": 0,
  "metadata": {
    "colab": {
      "provenance": [],
      "authorship_tag": "ABX9TyPjpABBL4CVN3rKJ+8QXTva",
      "include_colab_link": true
    },
    "kernelspec": {
      "name": "python3",
      "display_name": "Python 3"
    },
    "language_info": {
      "name": "python"
    }
  },
  "cells": [
    {
      "cell_type": "markdown",
      "metadata": {
        "id": "view-in-github",
        "colab_type": "text"
      },
      "source": [
        "<a href=\"https://colab.research.google.com/github/BrandonOrtiz7/Metodos-numericos/blob/main/Neville.ipynb\" target=\"_parent\"><img src=\"https://colab.research.google.com/assets/colab-badge.svg\" alt=\"Open In Colab\"/></a>"
      ]
    },
    {
      "cell_type": "markdown",
      "source": [
        "METODO DE NEVILLE\n",
        "\n",
        "El método construye el polinomio interpolante en forma recursiva, llenando una tabla triangular (como la que se usa en la programación dinámica). Su ventaja es que permite obtener el valor aproximado de la función sin tener que calcular explícitamente todo el polinomio."
      ],
      "metadata": {
        "id": "nzOQJEYp28QZ"
      }
    },
    {
      "cell_type": "markdown",
      "source": [
        "La fórmula recursiva que usa es:\n",
        "\n",
        "$Q_{i,j} = \\frac{(x - x_{i-j}) Q_{i,j-1} - (x - x_i) Q_{i-1,j-1}}{x_i - x_{i-j}}\n",
        "$"
      ],
      "metadata": {
        "id": "CohNVvJc6HyC"
      }
    },
    {
      "cell_type": "markdown",
      "source": [
        "![descarga.png](data:image/png;base64,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)"
      ],
      "metadata": {
        "id": "ypCcwGAIAYeM"
      }
    },
    {
      "cell_type": "code",
      "source": [
        "from tabulate import tabulate\n",
        "\n",
        "def neville(x, xi, fxi): #x:punto en el que queremos aproximar, xi:lista de valores, fxi:valores de la funcion evaluados en xi\n",
        "    n = len(xi)\n",
        "\n",
        "    Q = [[0.0 for _ in range(n)] for _ in range(n)] #creamos una tabla Q de tamaño nxn en donde todo esta inicializado en 0.0, es una MATRIZ\n",
        "    #_ se usa para indicar que no necesitamos iterar la variable, lo que nos interesa es saber cuantas bveces se repite\n",
        "\n",
        "    for i in range(n):  #creamos la primer columna de la tabla\n",
        "        Q[i][0] = fxi[i]\n",
        "\n",
        "    for i in range(1, n):        #empezamos desde la posicion 1 ya que en la 0 ya tenemos los valores de fxi\n",
        "        for j in range(1, i + 1):     #cuando i = 1, solo se calcula Q[1][1].Luego, cuando i = 2, calculamos Q[2][1] y Q[2][2]\n",
        "            xi_j = xi[i - j]      #este valor es xi-j\n",
        "            xi_i = xi[i]          #este valor es xi\n",
        "            num = (x - xi_j) * Q[i][j - 1] - (x - xi_i) * Q[i - 1][j - 1] #calculamos de numerador usando la formula        #i SON LOS RENGLONES, j SON LAS COLUMNAS\n",
        "            den = xi_i - xi_j  #calculamos el denominador usando la formula\n",
        "            Q[i][j] = num / den      #obtenemos el resultado y lo guardamos en la tabla\n",
        "    print(tabulate(Q, tablefmt=\"grid\"))\n",
        "\n",
        "\n",
        "xi = [1, 1.3, 1.6, 1.9, 2.2]\n",
        "fxi = [ 0.7651977, 0.6200860,  0.4554022,  0.2818186,  0.1103623]\n",
        "x = 1.5\n",
        "\n",
        "neville(x, xi, fxi)\n",
        "\n"
      ],
      "metadata": {
        "id": "Ipk99d_irCFV",
        "outputId": "dde686c2-533a-4e4d-a8ae-8feaddfcada8",
        "colab": {
          "base_uri": "https://localhost:8080/"
        }
      },
      "execution_count": 36,
      "outputs": [
        {
          "output_type": "stream",
          "name": "stdout",
          "text": [
            "+----------+----------+----------+----------+---------+\n",
            "| 0.765198 | 0        | 0        | 0        | 0       |\n",
            "+----------+----------+----------+----------+---------+\n",
            "| 0.620086 | 0.523345 | 0        | 0        | 0       |\n",
            "+----------+----------+----------+----------+---------+\n",
            "| 0.455402 | 0.510297 | 0.512471 | 0        | 0       |\n",
            "+----------+----------+----------+----------+---------+\n",
            "| 0.281819 | 0.513263 | 0.511286 | 0.511813 | 0       |\n",
            "+----------+----------+----------+----------+---------+\n",
            "| 0.110362 | 0.510427 | 0.513736 | 0.51183  | 0.51182 |\n",
            "+----------+----------+----------+----------+---------+\n"
          ]
        }
      ]
    }
  ]
}