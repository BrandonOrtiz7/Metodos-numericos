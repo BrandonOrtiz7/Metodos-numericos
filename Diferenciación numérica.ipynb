{
  "nbformat": 4,
  "nbformat_minor": 0,
  "metadata": {
    "colab": {
      "provenance": [],
      "authorship_tag": "ABX9TyOn6doOGY3deHzq/c6AD2ok",
      "include_colab_link": true
    },
    "kernelspec": {
      "name": "python3",
      "display_name": "Python 3"
    },
    "language_info": {
      "name": "python"
    }
  },
  "cells": [
    {
      "cell_type": "markdown",
      "metadata": {
        "id": "view-in-github",
        "colab_type": "text"
      },
      "source": [
        "<a href=\"https://colab.research.google.com/github/BrandonOrtiz7/Metodos-numericos/blob/main/Diferenciaci%C3%B3n%20num%C3%A9rica.ipynb\" target=\"_parent\"><img src=\"https://colab.research.google.com/assets/colab-badge.svg\" alt=\"Open In Colab\"/></a>"
      ]
    },
    {
      "cell_type": "code",
      "execution_count": 5,
      "metadata": {
        "colab": {
          "base_uri": "https://localhost:8080/"
        },
        "id": "M52M1tGkRltD",
        "outputId": "d6686a59-df11-45d4-dc5c-73e6e52aa376"
      },
      "outputs": [
        {
          "output_type": "stream",
          "name": "stdout",
          "text": [
            "\n",
            "Aproximaciones con SymPy y fórmulas numéricas:\n",
            "\n",
            "1) Extremo de tres puntos: 22.03230999999999\n",
            "2) Punto medio de tres puntos: 22.228789999999996\n",
            "3) Punto medio de cinco puntos: 22.16699916666666\n",
            "4) Extremo de cinco puntos: 16.938014166666683\n",
            "5) Segunda derivada centrada: 29.59319999999969\n"
          ]
        }
      ],
      "source": [
        "import sympy as sp    #funciones simbólicas\n",
        "\n",
        "#diccionario con los valores dados de f(x)\n",
        "valores = {\n",
        "    #x       f(x)\n",
        "    1.8: 10.889365,\n",
        "    1.9: 12.703199,\n",
        "    2.0: 14.778112,\n",
        "    2.1: 17.148957,\n",
        "    2.2: 19.855030\n",
        "}\n",
        "\n",
        "h = 0.1\n",
        "\n",
        "# aquí estamos declarando x como una variable simbólica (nos puede ayudar si queremos comparar con funciones exactas más adelante)\n",
        "x = sp.Symbol('x')\n",
        "\n",
        "\n",
        "#frmula del extremo de tres puntos (adelante)\n",
        "def extremo_tres_puntos(y0, y1, y2, h):\n",
        "    return (-3*y0 + 4*y1 - y2) / (2*h)\n",
        "\n",
        "#formula del punto medio de tres puntos (centrada)\n",
        "def punto_medio_tres_puntos(y_menos, y_mas, h):\n",
        "    return (y_mas - y_menos) / (2*h)\n",
        "\n",
        "#formula del punto medio de cinco puntos (más precisa)\n",
        "def punto_medio_cinco_puntos(y_m2, y_m1, y_p1, y_p2, h):\n",
        "    return (y_m2 - 8*y_m1 + 8*y_p1 - y_p2) / (12*h)\n",
        "\n",
        "#formula del extremo de cinco puntos (adelante)\n",
        "def extremo_cinco_puntos(y0, y1, y2, y3, y4, h):\n",
        "    return (-25*y0 + 48*y1 - 36*y2 + 16*y3 - 3*y4) / (12*h)\n",
        "\n",
        "#segunda derivada centrada\n",
        "def segunda_derivada(y_m1, y0, y_p1, h):\n",
        "    return (y_m1 - 2*y0 + y_p1) / (h**2)\n",
        "\n",
        "\n",
        "print(\"\\nAproximaciones con SymPy y fórmulas numéricas:\\n\")\n",
        "\n",
        "print(\"1) Extremo de tres puntos:\", extremo_tres_puntos(valores[2.0], valores[2.1], valores[2.2], h))\n",
        "\n",
        "print(\"2) Punto medio de tres puntos:\", punto_medio_tres_puntos(valores[1.9], valores[2.1], h))\n",
        "\n",
        "print(\"3) Punto medio de cinco puntos:\", punto_medio_cinco_puntos(valores[1.8], valores[1.9], valores[2.1], valores[2.2], h))\n",
        "\n",
        "print(\"4) Extremo de cinco puntos:\", extremo_cinco_puntos(valores[1.8], valores[1.9], valores[2.0], valores[2.1], valores[2.2], h))\n",
        "\n",
        "print(\"5) Segunda derivada centrada:\", segunda_derivada(valores[1.9], valores[2.0], valores[2.1], h))\n"
      ]
    }
  ]
}