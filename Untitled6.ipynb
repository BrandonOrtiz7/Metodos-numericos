{
  "nbformat": 4,
  "nbformat_minor": 0,
  "metadata": {
    "colab": {
      "provenance": [],
      "authorship_tag": "ABX9TyPkxAqhW4/pCIXKcdXVbiBL",
      "include_colab_link": true
    },
    "kernelspec": {
      "name": "python3",
      "display_name": "Python 3"
    },
    "language_info": {
      "name": "python"
    }
  },
  "cells": [
    {
      "cell_type": "markdown",
      "metadata": {
        "id": "view-in-github",
        "colab_type": "text"
      },
      "source": [
        "<a href=\"https://colab.research.google.com/github/BrandonOrtiz7/Metodos-numericos/blob/main/Untitled6.ipynb\" target=\"_parent\"><img src=\"https://colab.research.google.com/assets/colab-badge.svg\" alt=\"Open In Colab\"/></a>"
      ]
    },
    {
      "cell_type": "code",
      "execution_count": null,
      "metadata": {
        "id": "pmw6rqdv7Bqf"
      },
      "outputs": [],
      "source": [
        "from tabulate import tabulate #libreria para representar la tabla"
      ]
    },
    {
      "cell_type": "code",
      "source": [
        "\n",
        "def f(x):\n",
        "    return x**3 + 4*x**2 - 10 #definimos la ecuacion"
      ],
      "metadata": {
        "id": "bH8EB8A6_Tq5"
      },
      "execution_count": null,
      "outputs": []
    },
    {
      "cell_type": "code",
      "source": [
        "def biseccion(an, bn, er, n): #definimos el metodo de biseccion, las definimos por separado para mandar a llamar a la ecuacion cuando se requiera e el metodo}\n",
        "    an=1\n",
        "    bn=2 #definimos el intervalo\n",
        "    er=10**-4 #definimos el error tolerable"
      ],
      "metadata": {
        "id": "zmBmnU_gEOrq"
      },
      "execution_count": 3,
      "outputs": []
    },
    {
      "cell_type": "code",
      "source": [
        "    if f(1) * f(2) > 0:\n",
        "        print(\"No hay raiz en este intervalo, prueba con otro\") #definimos una conicion para cuando nse dio un intervalo incorrecto\n",
        "        return None"
      ],
      "metadata": {
        "id": "mLIHk9U9HnxA"
      },
      "execution_count": 4,
      "outputs": []
    },
    {
      "cell_type": "code",
      "source": [
        "    i=1 #contamos las iteraciones o el numero d ¿e intentos que se llevara el metodo de biseccion\n",
        "    FA=f(an)\n",
        "    while i <= n :\n",
        "      p = an + (bn-an)/2\n",
        "      FP = f(p)\n",
        "      if f(p) == 0 or (bn-an)/2 < er:\n",
        "        print (p)\n",
        "        break\n"
      ],
      "metadata": {
        "id": "pQCa4rBbHpFn"
      },
      "execution_count": null,
      "outputs": []
    },
    {
      "cell_type": "code",
      "source": [],
      "metadata": {
        "id": "i0cnuFNjXjsm"
      },
      "execution_count": null,
      "outputs": []
    }
  ]
}