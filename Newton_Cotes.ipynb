{
  "nbformat": 4,
  "nbformat_minor": 0,
  "metadata": {
    "colab": {
      "provenance": [],
      "authorship_tag": "ABX9TyOkt7eLGKhE+K2RO7ISFhLZ",
      "include_colab_link": true
    },
    "kernelspec": {
      "name": "python3",
      "display_name": "Python 3"
    },
    "language_info": {
      "name": "python"
    }
  },
  "cells": [
    {
      "cell_type": "markdown",
      "metadata": {
        "id": "view-in-github",
        "colab_type": "text"
      },
      "source": [
        "<a href=\"https://colab.research.google.com/github/BrandonOrtiz7/Metodos-numericos/blob/main/Newton_Cotes.ipynb\" target=\"_parent\"><img src=\"https://colab.research.google.com/assets/colab-badge.svg\" alt=\"Open In Colab\"/></a>"
      ]
    },
    {
      "cell_type": "code",
      "source": [
        "import sympy as sp                     # importar sympy para manejo simbólico\n",
        "import numpy as np                    # para evaluación numérica\n",
        "\n",
        "x = sp.symbols('x')                   # definir variable simbólica\n",
        "f = sp.sin(x)                        # definir función sin(x)\n",
        "\n",
        "a = 0                               # límite inferior\n",
        "b = sp.pi/4                         # límite superior\n",
        "\n",
        "def newton_cotes_cerrada(f, a, b, n):\n",
        "    h = (b - a)/n                   # paso para cerrada: h = (b-a)/n\n",
        "    xi = [a + i*h for i in range(n+1)]   # nodos xi = a + i*h, i=0..n\n",
        "    fi = [f.subs(x, val).evalf() for val in xi]  # evaluar función en nodos\n",
        "\n",
        "    if n == 1:     # regla trapezoidal\n",
        "        I = (h/2)*(fi[0] + fi[1])                          # fórmula cerrada n=1\n",
        "    elif n == 2:   # regla de Simpson\n",
        "        I = (h/3)*(fi[0] + 4*fi[1] + fi[2])                # fórmula cerrada n=2\n",
        "    elif n == 3:   # regla tres octavos\n",
        "        I = (3*h/8)*(fi[0] + 3*fi[1] + 3*fi[2] + fi[3])    # fórmula cerrada n=3\n",
        "    elif n == 4:   # fórmula cerrada n=4 (Newton-Cotes con 5 puntos)\n",
        "        I = (2*h/45)*(7*fi[0] + 32*fi[1] + 12*fi[2] + 32*fi[3] + 7*fi[4])  # cerrada n=4\n",
        "    else:\n",
        "        raise ValueError(\"n debe ser 1, 2, 3 o 4 para fórmula cerrada\")\n",
        "    return I\n",
        "\n",
        "def newton_cotes_abierta(f, a, b, n):\n",
        "    h = (b - a)/(n + 2)             # paso para abierta: h = (b-a)/(n+2)\n",
        "    xi = [a + (i+1)*h for i in range(n+1)]  # nodos xi = a + (i+1)*h, i=0..n\n",
        "    fi = [f.subs(x, val).evalf() for val in xi]  # evaluar función en nodos\n",
        "\n",
        "    if n == 0:      # fórmula abierta n=0 (un punto)\n",
        "        I = (b - a)*fi[0]                                 # peso 1\n",
        "    elif n == 1:    # fórmula abierta n=1 (2 puntos)\n",
        "        I = ((b - a)/2)*(fi[0] + fi[1])                   # pesos 1,1\n",
        "    elif n == 2:    # fórmula abierta n=2 (3 puntos)\n",
        "        I = ((b - a)/3)*(2*fi[0] - fi[1] + 2*fi[2])       # pesos 2, -1, 2\n",
        "    elif n == 3:    # fórmula abierta n=3 (4 puntos)\n",
        "        I = ((b - a)/24)*(11*fi[0] + fi[1] + fi[2] + 11*fi[3])  # pesos 11,1,1,11\n",
        "    else:\n",
        "        raise ValueError(\"n debe ser 0, 1, 2 o 3 para fórmula abierta\")\n",
        "    return I\n",
        "\n",
        "\n",
        "exacto = sp.integrate(f, (x, a, b)).evalf()         # valor exacto integral\n",
        "\n",
        "print(f\"Valor exacto integral: {exacto:.8f}\\n\")\n",
        "\n",
        "# cerradas\n",
        "for n in [1, 2, 3, 4]:\n",
        "    val = newton_cotes_cerrada(f, a, b, n)\n",
        "    print(f\"Cerrada n={n}: {val:.8f}\")\n",
        "\n",
        "print()\n",
        "\n",
        "# abiertas\n",
        "for n in [0, 1, 2, 3]:\n",
        "    val = newton_cotes_abierta(f, a, b, n)\n",
        "    print(f\"Abierta n={n}: {val:.8f}\")\n"
      ],
      "metadata": {
        "colab": {
          "base_uri": "https://localhost:8080/"
        },
        "id": "UVOrN2GJ-sK_",
        "outputId": "e740db91-c819-48b5-86d2-4deac57a4d40"
      },
      "execution_count": 2,
      "outputs": [
        {
          "output_type": "stream",
          "name": "stdout",
          "text": [
            "Valor exacto integral: 0.29289322\n",
            "\n",
            "Cerrada n=1: 0.27768018\n",
            "Cerrada n=2: 0.29293264\n",
            "Cerrada n=3: 0.29291070\n",
            "Cerrada n=4: 0.29289318\n",
            "\n",
            "Abierta n=0: 0.30055886\n",
            "Abierta n=1: 0.29798754\n",
            "Abierta n=2: 0.29285866\n",
            "Abierta n=3: 0.29286923\n"
          ]
        }
      ]
    }
  ]
}